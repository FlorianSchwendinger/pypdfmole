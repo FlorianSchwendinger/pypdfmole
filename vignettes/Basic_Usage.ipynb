{
 "cells": [
  {
   "cell_type": "markdown",
   "metadata": {},
   "source": [
    "# Basic usage **pdfmole**"
   ]
  },
  {
   "cell_type": "code",
   "execution_count": 1,
   "metadata": {},
   "outputs": [],
   "source": [
    "from pdfmole import read_pdf, group_blocks, align_exact_match, kdplot\n",
    "import numpy as np\n",
    "import pandas as pd"
   ]
  },
  {
   "cell_type": "markdown",
   "metadata": {},
   "source": [
    "## Read the pdf-file"
   ]
  },
  {
   "cell_type": "code",
   "execution_count": 2,
   "metadata": {},
   "outputs": [],
   "source": [
    "doc = read_pdf(\"../samples/cars.pdf\")"
   ]
  },
  {
   "cell_type": "markdown",
   "metadata": {},
   "source": [
    "Each pdf consists of several elements:"
   ]
  },
  {
   "cell_type": "code",
   "execution_count": 3,
   "metadata": {},
   "outputs": [
    {
     "data": {
      "text/plain": [
       "['metainfo',\n",
       " 'text',\n",
       " 'line',\n",
       " 'rect',\n",
       " 'curve',\n",
       " 'figure',\n",
       " 'textline',\n",
       " 'textbox',\n",
       " 'textgroup',\n",
       " 'image']"
      ]
     },
     "execution_count": 3,
     "metadata": {},
     "output_type": "execute_result"
    }
   ],
   "source": [
    "doc.elements"
   ]
  },
  {
   "cell_type": "markdown",
   "metadata": {},
   "source": [
    "There is a get function for each element type `get_<element>`"
   ]
  },
  {
   "cell_type": "code",
   "execution_count": 4,
   "metadata": {},
   "outputs": [
    {
     "data": {
      "text/html": [
       "<div>\n",
       "<style scoped>\n",
       "    .dataframe tbody tr th:only-of-type {\n",
       "        vertical-align: middle;\n",
       "    }\n",
       "\n",
       "    .dataframe tbody tr th {\n",
       "        vertical-align: top;\n",
       "    }\n",
       "\n",
       "    .dataframe thead th {\n",
       "        text-align: right;\n",
       "    }\n",
       "</style>\n",
       "<table border=\"1\" class=\"dataframe\">\n",
       "  <thead>\n",
       "    <tr style=\"text-align: right;\">\n",
       "      <th></th>\n",
       "      <th>pid</th>\n",
       "      <th>rotate</th>\n",
       "      <th>x0</th>\n",
       "      <th>y0</th>\n",
       "      <th>x1</th>\n",
       "      <th>y1</th>\n",
       "    </tr>\n",
       "  </thead>\n",
       "  <tbody>\n",
       "    <tr>\n",
       "      <th>0</th>\n",
       "      <td>1</td>\n",
       "      <td>0</td>\n",
       "      <td>0</td>\n",
       "      <td>0</td>\n",
       "      <td>595</td>\n",
       "      <td>842</td>\n",
       "    </tr>\n",
       "    <tr>\n",
       "      <th>1</th>\n",
       "      <td>2</td>\n",
       "      <td>0</td>\n",
       "      <td>0</td>\n",
       "      <td>0</td>\n",
       "      <td>595</td>\n",
       "      <td>842</td>\n",
       "    </tr>\n",
       "  </tbody>\n",
       "</table>\n",
       "</div>"
      ],
      "text/plain": [
       "   pid  rotate  x0  y0   x1   y1\n",
       "0    1       0   0   0  595  842\n",
       "1    2       0   0   0  595  842"
      ]
     },
     "execution_count": 4,
     "metadata": {},
     "output_type": "execute_result"
    }
   ],
   "source": [
    "doc.get_metainfo()"
   ]
  },
  {
   "cell_type": "markdown",
   "metadata": {},
   "source": [
    "By default the get methods return pandas `DataFrame` but the return type can also be changed to `list[dict]`."
   ]
  },
  {
   "cell_type": "code",
   "execution_count": 5,
   "metadata": {},
   "outputs": [
    {
     "data": {
      "text/plain": [
       "[{'pid': 1, 'rotate': 0, 'x0': 0, 'y0': 0, 'x1': 595, 'y1': 842},\n",
       " {'pid': 2, 'rotate': 0, 'x0': 0, 'y0': 0, 'x1': 595, 'y1': 842}]"
      ]
     },
     "execution_count": 5,
     "metadata": {},
     "output_type": "execute_result"
    }
   ],
   "source": [
    "doc.get_metainfo(\"list\")"
   ]
  },
  {
   "cell_type": "markdown",
   "metadata": {},
   "source": [
    "## Transform the data into a rectangular format"
   ]
  },
  {
   "cell_type": "code",
   "execution_count": 6,
   "metadata": {},
   "outputs": [
    {
     "data": {
      "text/html": [
       "<div>\n",
       "<style scoped>\n",
       "    .dataframe tbody tr th:only-of-type {\n",
       "        vertical-align: middle;\n",
       "    }\n",
       "\n",
       "    .dataframe tbody tr th {\n",
       "        vertical-align: top;\n",
       "    }\n",
       "\n",
       "    .dataframe thead th {\n",
       "        text-align: right;\n",
       "    }\n",
       "</style>\n",
       "<table border=\"1\" class=\"dataframe\">\n",
       "  <thead>\n",
       "    <tr style=\"text-align: right;\">\n",
       "      <th></th>\n",
       "      <th>pid</th>\n",
       "      <th>block</th>\n",
       "      <th>text</th>\n",
       "      <th>font</th>\n",
       "      <th>size</th>\n",
       "      <th>colorspace</th>\n",
       "      <th>color</th>\n",
       "      <th>x0</th>\n",
       "      <th>y0</th>\n",
       "      <th>x1</th>\n",
       "      <th>y1</th>\n",
       "    </tr>\n",
       "  </thead>\n",
       "  <tbody>\n",
       "    <tr>\n",
       "      <th>0</th>\n",
       "      <td>1</td>\n",
       "      <td>1.0</td>\n",
       "      <td>s</td>\n",
       "      <td>Courier-Bold</td>\n",
       "      <td>12.0</td>\n",
       "      <td>DeviceGray</td>\n",
       "      <td>[0, 0, 0]</td>\n",
       "      <td>77.2</td>\n",
       "      <td>751.272</td>\n",
       "      <td>84.4</td>\n",
       "      <td>763.272</td>\n",
       "    </tr>\n",
       "    <tr>\n",
       "      <th>1</th>\n",
       "      <td>1</td>\n",
       "      <td>1.0</td>\n",
       "      <td>p</td>\n",
       "      <td>Courier-Bold</td>\n",
       "      <td>12.0</td>\n",
       "      <td>DeviceGray</td>\n",
       "      <td>[0, 0, 0]</td>\n",
       "      <td>84.4</td>\n",
       "      <td>751.272</td>\n",
       "      <td>91.6</td>\n",
       "      <td>763.272</td>\n",
       "    </tr>\n",
       "    <tr>\n",
       "      <th>2</th>\n",
       "      <td>1</td>\n",
       "      <td>1.0</td>\n",
       "      <td>e</td>\n",
       "      <td>Courier-Bold</td>\n",
       "      <td>12.0</td>\n",
       "      <td>DeviceGray</td>\n",
       "      <td>[0, 0, 0]</td>\n",
       "      <td>91.6</td>\n",
       "      <td>751.272</td>\n",
       "      <td>98.8</td>\n",
       "      <td>763.272</td>\n",
       "    </tr>\n",
       "  </tbody>\n",
       "</table>\n",
       "</div>"
      ],
      "text/plain": [
       "   pid  block text          font  size  colorspace      color    x0       y0  \\\n",
       "0    1    1.0    s  Courier-Bold  12.0  DeviceGray  [0, 0, 0]  77.2  751.272   \n",
       "1    1    1.0    p  Courier-Bold  12.0  DeviceGray  [0, 0, 0]  84.4  751.272   \n",
       "2    1    1.0    e  Courier-Bold  12.0  DeviceGray  [0, 0, 0]  91.6  751.272   \n",
       "\n",
       "     x1       y1  \n",
       "0  84.4  763.272  \n",
       "1  91.6  763.272  \n",
       "2  98.8  763.272  "
      ]
     },
     "execution_count": 6,
     "metadata": {},
     "output_type": "execute_result"
    }
   ],
   "source": [
    "d = doc.get_text()\n",
    "d.head(3)"
   ]
  },
  {
   "cell_type": "markdown",
   "metadata": {},
   "source": [
    "The method `get_text` returns the columns\n",
    "\n",
    "- `pid` ... an integer giving the page id.\n",
    "- `block` ... an integer giving the id of some grouping information provided by pdfminer.\n",
    "- `text` ... a character to be refined to the text.\n",
    "- `font` ... a string giving the font name.\n",
    "- `size` ... a float giving the font size.\n",
    "- `colorspace` ... a string giving the color space.\n",
    "- `color` ... a tuple of int giving the color.\n",
    "- `x0` ... a float giving the distance from the left of the page to the left edge of the bounding box.\n",
    "- `y0` ... a float giving the distance from the bottom of the page to the lower edge of the bounding box.\n",
    "- `x1` ... a float giving the distance from the left of the page to the right edge of the bounding box.\n",
    "- `y1` ... a float giving the distance from the bottom of the page to the upper edge of the bounding box.\n",
    "\n",
    "for each character in the document."
   ]
  },
  {
   "cell_type": "markdown",
   "metadata": {},
   "source": [
    "### 1. Remove control characters"
   ]
  },
  {
   "cell_type": "code",
   "execution_count": 7,
   "metadata": {},
   "outputs": [
    {
     "data": {
      "text/html": [
       "<div>\n",
       "<style scoped>\n",
       "    .dataframe tbody tr th:only-of-type {\n",
       "        vertical-align: middle;\n",
       "    }\n",
       "\n",
       "    .dataframe tbody tr th {\n",
       "        vertical-align: top;\n",
       "    }\n",
       "\n",
       "    .dataframe thead th {\n",
       "        text-align: right;\n",
       "    }\n",
       "</style>\n",
       "<table border=\"1\" class=\"dataframe\">\n",
       "  <thead>\n",
       "    <tr style=\"text-align: right;\">\n",
       "      <th></th>\n",
       "      <th>pid</th>\n",
       "      <th>block</th>\n",
       "      <th>text</th>\n",
       "      <th>font</th>\n",
       "      <th>size</th>\n",
       "      <th>colorspace</th>\n",
       "      <th>color</th>\n",
       "      <th>x0</th>\n",
       "      <th>y0</th>\n",
       "      <th>x1</th>\n",
       "      <th>y1</th>\n",
       "    </tr>\n",
       "  </thead>\n",
       "  <tbody>\n",
       "    <tr>\n",
       "      <th>5</th>\n",
       "      <td>1</td>\n",
       "      <td>NaN</td>\n",
       "      <td></td>\n",
       "      <td>NaN</td>\n",
       "      <td>NaN</td>\n",
       "      <td>NaN</td>\n",
       "      <td>NaN</td>\n",
       "      <td>NaN</td>\n",
       "      <td>NaN</td>\n",
       "      <td>NaN</td>\n",
       "      <td>NaN</td>\n",
       "    </tr>\n",
       "    <tr>\n",
       "      <th>10</th>\n",
       "      <td>1</td>\n",
       "      <td>NaN</td>\n",
       "      <td>\\n</td>\n",
       "      <td>NaN</td>\n",
       "      <td>NaN</td>\n",
       "      <td>NaN</td>\n",
       "      <td>NaN</td>\n",
       "      <td>NaN</td>\n",
       "      <td>NaN</td>\n",
       "      <td>NaN</td>\n",
       "      <td>NaN</td>\n",
       "    </tr>\n",
       "    <tr>\n",
       "      <th>12</th>\n",
       "      <td>1</td>\n",
       "      <td>NaN</td>\n",
       "      <td>\\n</td>\n",
       "      <td>NaN</td>\n",
       "      <td>NaN</td>\n",
       "      <td>NaN</td>\n",
       "      <td>NaN</td>\n",
       "      <td>NaN</td>\n",
       "      <td>NaN</td>\n",
       "      <td>NaN</td>\n",
       "      <td>NaN</td>\n",
       "    </tr>\n",
       "  </tbody>\n",
       "</table>\n",
       "</div>"
      ],
      "text/plain": [
       "    pid  block text font  size colorspace color  x0  y0  x1  y1\n",
       "5     1    NaN       NaN   NaN        NaN   NaN NaN NaN NaN NaN\n",
       "10    1    NaN   \\n  NaN   NaN        NaN   NaN NaN NaN NaN NaN\n",
       "12    1    NaN   \\n  NaN   NaN        NaN   NaN NaN NaN NaN NaN"
      ]
     },
     "execution_count": 7,
     "metadata": {},
     "output_type": "execute_result"
    }
   ],
   "source": [
    "deleted = d[~(d['size'] > 0)]\n",
    "d = d[d['size'] > 0]\n",
    "deleted.head(3)"
   ]
  },
  {
   "cell_type": "markdown",
   "metadata": {},
   "source": [
    "### 2. Group the blocks\n",
    "In many situations the grouping information provided by pdfminer is helpfull. So we start by grouping the blocks."
   ]
  },
  {
   "cell_type": "code",
   "execution_count": 8,
   "metadata": {},
   "outputs": [
    {
     "data": {
      "text/html": [
       "<div>\n",
       "<style scoped>\n",
       "    .dataframe tbody tr th:only-of-type {\n",
       "        vertical-align: middle;\n",
       "    }\n",
       "\n",
       "    .dataframe tbody tr th {\n",
       "        vertical-align: top;\n",
       "    }\n",
       "\n",
       "    .dataframe thead th {\n",
       "        text-align: right;\n",
       "    }\n",
       "</style>\n",
       "<table border=\"1\" class=\"dataframe\">\n",
       "  <thead>\n",
       "    <tr style=\"text-align: right;\">\n",
       "      <th></th>\n",
       "      <th>pid</th>\n",
       "      <th>text</th>\n",
       "      <th>font</th>\n",
       "      <th>size</th>\n",
       "      <th>colorspace</th>\n",
       "      <th>color</th>\n",
       "      <th>rotated</th>\n",
       "      <th>x0</th>\n",
       "      <th>y0</th>\n",
       "      <th>x1</th>\n",
       "      <th>y1</th>\n",
       "    </tr>\n",
       "  </thead>\n",
       "  <tbody>\n",
       "    <tr>\n",
       "      <th>0</th>\n",
       "      <td>1</td>\n",
       "      <td>speed</td>\n",
       "      <td>Courier-Bold</td>\n",
       "      <td>12.0</td>\n",
       "      <td>DeviceGray</td>\n",
       "      <td>[0, 0, 0]</td>\n",
       "      <td>-1</td>\n",
       "      <td>77.2</td>\n",
       "      <td>751.272</td>\n",
       "      <td>113.2</td>\n",
       "      <td>763.272</td>\n",
       "    </tr>\n",
       "    <tr>\n",
       "      <th>1</th>\n",
       "      <td>1</td>\n",
       "      <td>dist</td>\n",
       "      <td>Courier-Bold</td>\n",
       "      <td>12.0</td>\n",
       "      <td>DeviceGray</td>\n",
       "      <td>[0, 0, 0]</td>\n",
       "      <td>-1</td>\n",
       "      <td>124.4</td>\n",
       "      <td>751.272</td>\n",
       "      <td>153.2</td>\n",
       "      <td>763.272</td>\n",
       "    </tr>\n",
       "    <tr>\n",
       "      <th>2</th>\n",
       "      <td>1</td>\n",
       "      <td>4</td>\n",
       "      <td>Courier</td>\n",
       "      <td>12.0</td>\n",
       "      <td>DeviceGray</td>\n",
       "      <td>[0, 0, 0]</td>\n",
       "      <td>-1</td>\n",
       "      <td>115.2</td>\n",
       "      <td>736.272</td>\n",
       "      <td>122.4</td>\n",
       "      <td>748.272</td>\n",
       "    </tr>\n",
       "  </tbody>\n",
       "</table>\n",
       "</div>"
      ],
      "text/plain": [
       "   pid   text          font  size  colorspace      color  rotated     x0  \\\n",
       "0    1  speed  Courier-Bold  12.0  DeviceGray  [0, 0, 0]       -1   77.2   \n",
       "1    1   dist  Courier-Bold  12.0  DeviceGray  [0, 0, 0]       -1  124.4   \n",
       "2    1      4       Courier  12.0  DeviceGray  [0, 0, 0]       -1  115.2   \n",
       "\n",
       "        y0     x1       y1  \n",
       "0  751.272  113.2  763.272  \n",
       "1  751.272  153.2  763.272  \n",
       "2  736.272  122.4  748.272  "
      ]
     },
     "execution_count": 8,
     "metadata": {},
     "output_type": "execute_result"
    }
   ],
   "source": [
    "d = group_blocks(d)\n",
    "d.head(3)"
   ]
  },
  {
   "cell_type": "markdown",
   "metadata": {},
   "source": [
    "Group blocks adds a rotated column, the usage of this column is shown in the [`Rotated_Text`]() vignette. Here we won't use it therfore we remove it along with other unused columns."
   ]
  },
  {
   "cell_type": "code",
   "execution_count": 9,
   "metadata": {},
   "outputs": [],
   "source": [
    "rm_us = {\"rotated\", \"size\", \"colorspace\", \"color\"}\n",
    "d = d[[k for k in d.columns if not k in rm_us]]"
   ]
  },
  {
   "cell_type": "markdown",
   "metadata": {},
   "source": [
    "### 3. Filter\n",
    "Information like the font name and font size can be used to remove headers and footers."
   ]
  },
  {
   "cell_type": "code",
   "execution_count": 10,
   "metadata": {},
   "outputs": [
    {
     "data": {
      "text/html": [
       "<div>\n",
       "<style scoped>\n",
       "    .dataframe tbody tr th:only-of-type {\n",
       "        vertical-align: middle;\n",
       "    }\n",
       "\n",
       "    .dataframe tbody tr th {\n",
       "        vertical-align: top;\n",
       "    }\n",
       "\n",
       "    .dataframe thead th {\n",
       "        text-align: right;\n",
       "    }\n",
       "</style>\n",
       "<table border=\"1\" class=\"dataframe\">\n",
       "  <thead>\n",
       "    <tr style=\"text-align: right;\">\n",
       "      <th></th>\n",
       "      <th>pid</th>\n",
       "      <th>text</th>\n",
       "      <th>font</th>\n",
       "      <th>x0</th>\n",
       "      <th>y0</th>\n",
       "      <th>x1</th>\n",
       "      <th>y1</th>\n",
       "    </tr>\n",
       "  </thead>\n",
       "  <tbody>\n",
       "    <tr>\n",
       "      <th>153</th>\n",
       "      <td>2</td>\n",
       "      <td>120</td>\n",
       "      <td>Courier</td>\n",
       "      <td>140.4</td>\n",
       "      <td>691.272</td>\n",
       "      <td>162.00</td>\n",
       "      <td>703.272</td>\n",
       "    </tr>\n",
       "    <tr>\n",
       "      <th>154</th>\n",
       "      <td>2</td>\n",
       "      <td>85</td>\n",
       "      <td>Courier</td>\n",
       "      <td>147.6</td>\n",
       "      <td>676.272</td>\n",
       "      <td>162.00</td>\n",
       "      <td>688.272</td>\n",
       "    </tr>\n",
       "    <tr>\n",
       "      <th>155</th>\n",
       "      <td>2</td>\n",
       "      <td>Page 2</td>\n",
       "      <td>BAAAAA+LiberationSans</td>\n",
       "      <td>281.8</td>\n",
       "      <td>58.290</td>\n",
       "      <td>313.46</td>\n",
       "      <td>68.290</td>\n",
       "    </tr>\n",
       "  </tbody>\n",
       "</table>\n",
       "</div>"
      ],
      "text/plain": [
       "     pid    text                   font     x0       y0      x1       y1\n",
       "153    2     120                Courier  140.4  691.272  162.00  703.272\n",
       "154    2      85                Courier  147.6  676.272  162.00  688.272\n",
       "155    2  Page 2  BAAAAA+LiberationSans  281.8   58.290  313.46   68.290"
      ]
     },
     "execution_count": 10,
     "metadata": {},
     "output_type": "execute_result"
    }
   ],
   "source": [
    "d.tail(3)"
   ]
  },
  {
   "cell_type": "code",
   "execution_count": 11,
   "metadata": {},
   "outputs": [],
   "source": [
    "d = d[d['font'].str.startswith(\"Courier\")]"
   ]
  },
  {
   "cell_type": "markdown",
   "metadata": {},
   "source": [
    "### 4. Infer the row ids\n",
    "The **R** [**pdfmole**](https://github.com/FlorianSchwendinger/pdfmole) package has also an alignment method based on hierarchical clustering. This package currently only contains an exact match alignment method.\n",
    "\n",
    "We round the `'y0'` coordinates to cover at least some fuzzyness."
   ]
  },
  {
   "cell_type": "code",
   "execution_count": 12,
   "metadata": {},
   "outputs": [],
   "source": [
    "d = d.assign(rowid = align_exact_match(d['y0'].round()))"
   ]
  },
  {
   "cell_type": "markdown",
   "metadata": {},
   "source": [
    "### 5. Infer the column ids\n",
    "An easy approach to choose the column ids to provide the column width as in fixed width csv files."
   ]
  },
  {
   "cell_type": "code",
   "execution_count": 13,
   "metadata": {},
   "outputs": [
    {
     "data": {
      "image/png": "[encoded data removed]",
      "text/plain": [
       "<Figure size 432x288 with 1 Axes>"
      ]
     },
     "metadata": {
      "needs_background": "light"
     },
     "output_type": "display_data"
    }
   ],
   "source": [
    "plt, grid = kdplot(d)\n",
    "column_splits = np.array(range(len(grid) - 1))[(grid[:-1] - grid[1:]) > 30] + 1\n",
    "plt.axvline(column_splits[0], color = \"red\")\n",
    "plt.axvline(column_splits[1], color = \"red\")\n",
    "plt.show()"
   ]
  },
  {
   "cell_type": "code",
   "execution_count": 14,
   "metadata": {},
   "outputs": [],
   "source": [
    "d['colid'] = -1\n",
    "for col_id, column_split in enumerate(column_splits):\n",
    "    b = (d['colid'] < 0) & ((d['x0'] + d['x1']) / 2 < column_split)\n",
    "    d.loc[b, 'colid'] = col_id\n",
    "\n",
    "d.loc[d['colid']<0, 'colid'] = col_id + 1"
   ]
  },
  {
   "cell_type": "markdown",
   "metadata": {},
   "source": [
    "### 6. Transform data into tabular form\n",
    "To transform the data into a tabular form, we will first transform the `DataFrame` into a [coordinate list sparse matrix](https://en.wikipedia.org/wiki/Sparse_matrix#Coordinate_list_(COO)) format (also known as simple triplet matrix format.)"
   ]
  },
  {
   "cell_type": "code",
   "execution_count": 15,
   "metadata": {},
   "outputs": [
    {
     "data": {
      "text/html": [
       "<div>\n",
       "<style scoped>\n",
       "    .dataframe tbody tr th:only-of-type {\n",
       "        vertical-align: middle;\n",
       "    }\n",
       "\n",
       "    .dataframe tbody tr th {\n",
       "        vertical-align: top;\n",
       "    }\n",
       "\n",
       "    .dataframe thead th {\n",
       "        text-align: right;\n",
       "    }\n",
       "</style>\n",
       "<table border=\"1\" class=\"dataframe\">\n",
       "  <thead>\n",
       "    <tr style=\"text-align: right;\">\n",
       "      <th></th>\n",
       "      <th>row_id</th>\n",
       "      <th>col_id</th>\n",
       "      <th>text</th>\n",
       "    </tr>\n",
       "  </thead>\n",
       "  <tbody>\n",
       "    <tr>\n",
       "      <th>0</th>\n",
       "      <td>0</td>\n",
       "      <td>1</td>\n",
       "      <td>speed</td>\n",
       "    </tr>\n",
       "    <tr>\n",
       "      <th>1</th>\n",
       "      <td>0</td>\n",
       "      <td>2</td>\n",
       "      <td>dist</td>\n",
       "    </tr>\n",
       "    <tr>\n",
       "      <th>2</th>\n",
       "      <td>1</td>\n",
       "      <td>0</td>\n",
       "      <td>1</td>\n",
       "    </tr>\n",
       "    <tr>\n",
       "      <th>3</th>\n",
       "      <td>1</td>\n",
       "      <td>1</td>\n",
       "      <td>4</td>\n",
       "    </tr>\n",
       "    <tr>\n",
       "      <th>4</th>\n",
       "      <td>1</td>\n",
       "      <td>2</td>\n",
       "      <td>2</td>\n",
       "    </tr>\n",
       "  </tbody>\n",
       "</table>\n",
       "</div>"
      ],
      "text/plain": [
       "   row_id  col_id   text\n",
       "0       0       1  speed\n",
       "1       0       2   dist\n",
       "2       1       0      1\n",
       "3       1       1      4\n",
       "4       1       2      2"
      ]
     },
     "execution_count": 15,
     "metadata": {},
     "output_type": "execute_result"
    }
   ],
   "source": [
    "group_keys = ['pid', 'rowid', 'colid']\n",
    "d = d.sort_values(by = group_keys + ['x0'])\n",
    "coo_df = d.groupby(group_keys)['text'].apply(' '.join).reset_index()\n",
    "coo_df['row_id'] = (~coo_df[['pid', 'rowid']].duplicated()).cumsum() - 1\n",
    "coo_df = coo_df[['row_id', 'colid', 'text']]\n",
    "coo_df = coo_df.rename(columns={'colid': 'col_id'})\n",
    "coo_df.head()\n"
   ]
  },
  {
   "cell_type": "markdown",
   "metadata": {},
   "source": [
    "Second, we transform it to a matrix and then to a `DataFrame`."
   ]
  },
  {
   "cell_type": "code",
   "execution_count": 16,
   "metadata": {},
   "outputs": [
    {
     "data": {
      "text/html": [
       "<div>\n",
       "<style scoped>\n",
       "    .dataframe tbody tr th:only-of-type {\n",
       "        vertical-align: middle;\n",
       "    }\n",
       "\n",
       "    .dataframe tbody tr th {\n",
       "        vertical-align: top;\n",
       "    }\n",
       "\n",
       "    .dataframe thead th {\n",
       "        text-align: right;\n",
       "    }\n",
       "</style>\n",
       "<table border=\"1\" class=\"dataframe\">\n",
       "  <thead>\n",
       "    <tr style=\"text-align: right;\">\n",
       "      <th></th>\n",
       "      <th>speed</th>\n",
       "      <th>dist</th>\n",
       "    </tr>\n",
       "  </thead>\n",
       "  <tbody>\n",
       "    <tr>\n",
       "      <th>0</th>\n",
       "      <td>4</td>\n",
       "      <td>2</td>\n",
       "    </tr>\n",
       "    <tr>\n",
       "      <th>1</th>\n",
       "      <td>4</td>\n",
       "      <td>10</td>\n",
       "    </tr>\n",
       "    <tr>\n",
       "      <th>2</th>\n",
       "      <td>7</td>\n",
       "      <td>4</td>\n",
       "    </tr>\n",
       "    <tr>\n",
       "      <th>3</th>\n",
       "      <td>7</td>\n",
       "      <td>22</td>\n",
       "    </tr>\n",
       "    <tr>\n",
       "      <th>4</th>\n",
       "      <td>8</td>\n",
       "      <td>16</td>\n",
       "    </tr>\n",
       "  </tbody>\n",
       "</table>\n",
       "</div>"
      ],
      "text/plain": [
       "   speed  dist\n",
       "0      4     2\n",
       "1      4    10\n",
       "2      7     4\n",
       "3      7    22\n",
       "4      8    16"
      ]
     },
     "execution_count": 16,
     "metadata": {},
     "output_type": "execute_result"
    }
   ],
   "source": [
    "ncol = coo_df['col_id'].max() + 1\n",
    "nrow = coo_df['row_id'].max() + 1\n",
    "mat = np.array((nrow * ncol) * ['NA'], dtype='object').reshape((nrow, ncol))\n",
    "for _, row  in coo_df.iterrows():\n",
    "    i, j, v = row\n",
    "    mat[i, j] = v\n",
    "\n",
    "di = {mat[0,1]: mat[1:,1].astype(int), mat[0,2]: mat[1:,2].astype(int)}\n",
    "df = pd.DataFrame(di)\n",
    "df.head()"
   ]
  }
 ],
 "metadata": {
  "kernelspec": {
   "display_name": "Python 3",
   "language": "python",
   "name": "python3"
  },
  "language_info": {
   "codemirror_mode": {
    "name": "ipython",
    "version": 3
   },
   "file_extension": ".py",
   "mimetype": "text/x-python",
   "name": "python",
   "nbconvert_exporter": "python",
   "pygments_lexer": "ipython3",
   "version": "3.8.2"
  }
 },
 "nbformat": 4,
 "nbformat_minor": 4
}

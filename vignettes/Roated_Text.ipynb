{
 "cells": [
  {
   "cell_type": "markdown",
   "metadata": {},
   "source": [
    "# Refine rotated text"
   ]
  },
  {
   "cell_type": "code",
   "execution_count": 1,
   "metadata": {},
   "outputs": [],
   "source": [
    "from pdfmole import read_pdf, group_blocks, align_exact_match, kdplot\n",
    "import numpy as np\n",
    "import pandas as pd\n",
    "from collections import Counter"
   ]
  },
  {
   "cell_type": "markdown",
   "metadata": {},
   "source": [
    "## Example 1"
   ]
  },
  {
   "cell_type": "code",
   "execution_count": 2,
   "metadata": {},
   "outputs": [],
   "source": [
    "doc = read_pdf(\"../samples/rotated_text_1.pdf\", page_numbers=[0])\n",
    "d = doc.get_text()\n",
    "d = d[d['size'] > 0]"
   ]
  },
  {
   "cell_type": "markdown",
   "metadata": {},
   "source": [
    "For rotated texts the `block` annotation does not work and since we only read one page also the page id is not needed."
   ]
  },
  {
   "cell_type": "code",
   "execution_count": 3,
   "metadata": {},
   "outputs": [],
   "source": [
    "unused_columns = {\"colorspace\", \"color\", \"block\", \"pid\"}\n",
    "d = d[[k for k in d.columns if not k in unused_columns]]"
   ]
  },
  {
   "cell_type": "markdown",
   "metadata": {},
   "source": [
    "### Identify rotated text\n",
    "**pdfminer** doesn't tell us if a given letter is rotated or not. However for most characters and fonts the character height exceeds the character width. This changes if the letter is rotated."
   ]
  },
  {
   "cell_type": "code",
   "execution_count": 4,
   "metadata": {},
   "outputs": [
    {
     "data": {
      "text/html": [
       "<div>\n",
       "<style scoped>\n",
       "    .dataframe tbody tr th:only-of-type {\n",
       "        vertical-align: middle;\n",
       "    }\n",
       "\n",
       "    .dataframe tbody tr th {\n",
       "        vertical-align: top;\n",
       "    }\n",
       "\n",
       "    .dataframe thead th {\n",
       "        text-align: right;\n",
       "    }\n",
       "</style>\n",
       "<table border=\"1\" class=\"dataframe\">\n",
       "  <thead>\n",
       "    <tr style=\"text-align: right;\">\n",
       "      <th></th>\n",
       "      <th>text</th>\n",
       "      <th>font</th>\n",
       "      <th>size</th>\n",
       "      <th>x0</th>\n",
       "      <th>y0</th>\n",
       "      <th>x1</th>\n",
       "      <th>y1</th>\n",
       "      <th>rotated</th>\n",
       "    </tr>\n",
       "  </thead>\n",
       "  <tbody>\n",
       "    <tr>\n",
       "      <th>0</th>\n",
       "      <td>1</td>\n",
       "      <td>BAAAAA+LiberationSans</td>\n",
       "      <td>18.000</td>\n",
       "      <td>96.605</td>\n",
       "      <td>678.813</td>\n",
       "      <td>106.613</td>\n",
       "      <td>696.813</td>\n",
       "      <td>False</td>\n",
       "    </tr>\n",
       "    <tr>\n",
       "      <th>2</th>\n",
       "      <td></td>\n",
       "      <td>BAAAAA+LiberationSans</td>\n",
       "      <td>4.986</td>\n",
       "      <td>87.704</td>\n",
       "      <td>629.688</td>\n",
       "      <td>105.704</td>\n",
       "      <td>634.674</td>\n",
       "      <td>True</td>\n",
       "    </tr>\n",
       "    <tr>\n",
       "      <th>4</th>\n",
       "      <td></td>\n",
       "      <td>BAAAAA+LiberationSans</td>\n",
       "      <td>4.986</td>\n",
       "      <td>87.704</td>\n",
       "      <td>624.586</td>\n",
       "      <td>105.704</td>\n",
       "      <td>629.572</td>\n",
       "      <td>True</td>\n",
       "    </tr>\n",
       "  </tbody>\n",
       "</table>\n",
       "</div>"
      ],
      "text/plain": [
       "  text                   font    size      x0       y0       x1       y1  \\\n",
       "0    1  BAAAAA+LiberationSans  18.000  96.605  678.813  106.613  696.813   \n",
       "2       BAAAAA+LiberationSans   4.986  87.704  629.688  105.704  634.674   \n",
       "4       BAAAAA+LiberationSans   4.986  87.704  624.586  105.704  629.572   \n",
       "\n",
       "   rotated  \n",
       "0    False  \n",
       "2     True  \n",
       "4     True  "
      ]
     },
     "execution_count": 4,
     "metadata": {},
     "output_type": "execute_result"
    }
   ],
   "source": [
    "letter_height = d['y1'] - d['y0']\n",
    "letter_width = d['x1'] - d['x0']\n",
    "d['rotated'] = (letter_width > letter_height).to_numpy()\n",
    "d.head(3)"
   ]
  },
  {
   "cell_type": "markdown",
   "metadata": {},
   "source": [
    "### Split the DataFrame\n",
    "We split the `DataFrame` into a rotated and not rotated part."
   ]
  },
  {
   "cell_type": "code",
   "execution_count": 5,
   "metadata": {},
   "outputs": [],
   "source": [
    "d0 = d[d[\"rotated\"]]\n",
    "d0 = d0.assign(rowid = align_exact_match(d0[\"x0\"]))\n",
    "d1 = d[~d[\"rotated\"]]\n",
    "d1 = d1.assign(rowid = align_exact_match(d1[\"y0\"]))"
   ]
  },
  {
   "cell_type": "markdown",
   "metadata": {},
   "source": [
    "### Join the rows"
   ]
  },
  {
   "cell_type": "code",
   "execution_count": 6,
   "metadata": {},
   "outputs": [],
   "source": [
    "def join_rows(x, rotated=False):\n",
    "    def join_row(d, rotated=False):\n",
    "        if d.shape[0] == 0:\n",
    "            return None\n",
    "        d = d.sort_values(\"y0\" if rotated else \"x0\")\n",
    "        font = Counter(d['font']).most_common()[0][0]\n",
    "        font_size = Counter(d['size']).most_common()[0][0]\n",
    "        di = {'text': ''.join(d['text']), 'font': font, 'size': font_size,\n",
    "              'x0': d['x0'].min(), 'y0': d['y0'].min(), 'x1': d['x1'].max(), 'y1': d['y1'].max()}\n",
    "        return di\n",
    "    x = x.astype({'rowid': int})\n",
    "    y = [join_row(df, rotated) for row_id, df in x.groupby('rowid', as_index=False)]\n",
    "    return pd.DataFrame(y)"
   ]
  },
  {
   "cell_type": "code",
   "execution_count": 7,
   "metadata": {},
   "outputs": [
    {
     "data": {
      "text/html": [
       "<div>\n",
       "<style scoped>\n",
       "    .dataframe tbody tr th:only-of-type {\n",
       "        vertical-align: middle;\n",
       "    }\n",
       "\n",
       "    .dataframe tbody tr th {\n",
       "        vertical-align: top;\n",
       "    }\n",
       "\n",
       "    .dataframe thead th {\n",
       "        text-align: right;\n",
       "    }\n",
       "</style>\n",
       "<table border=\"1\" class=\"dataframe\">\n",
       "  <thead>\n",
       "    <tr style=\"text-align: right;\">\n",
       "      <th></th>\n",
       "      <th>text</th>\n",
       "      <th>font</th>\n",
       "      <th>size</th>\n",
       "      <th>x0</th>\n",
       "      <th>y0</th>\n",
       "      <th>x1</th>\n",
       "      <th>y1</th>\n",
       "    </tr>\n",
       "  </thead>\n",
       "  <tbody>\n",
       "    <tr>\n",
       "      <th>0</th>\n",
       "      <td>1</td>\n",
       "      <td>BAAAAA+LiberationSans</td>\n",
       "      <td>18.0</td>\n",
       "      <td>96.605</td>\n",
       "      <td>678.813</td>\n",
       "      <td>106.613</td>\n",
       "      <td>696.813</td>\n",
       "    </tr>\n",
       "    <tr>\n",
       "      <th>1</th>\n",
       "      <td>Mein Text</td>\n",
       "      <td>BAAAAA+LiberationSans</td>\n",
       "      <td>18.0</td>\n",
       "      <td>273.005</td>\n",
       "      <td>574.413</td>\n",
       "      <td>349.613</td>\n",
       "      <td>592.413</td>\n",
       "    </tr>\n",
       "    <tr>\n",
       "      <th>2</th>\n",
       "      <td>Häferl</td>\n",
       "      <td>BAAAAA+LiberationSans</td>\n",
       "      <td>18.0</td>\n",
       "      <td>114.605</td>\n",
       "      <td>480.813</td>\n",
       "      <td>162.503</td>\n",
       "      <td>498.813</td>\n",
       "    </tr>\n",
       "  </tbody>\n",
       "</table>\n",
       "</div>"
      ],
      "text/plain": [
       "        text                   font  size       x0       y0       x1       y1\n",
       "0          1  BAAAAA+LiberationSans  18.0   96.605  678.813  106.613  696.813\n",
       "1  Mein Text  BAAAAA+LiberationSans  18.0  273.005  574.413  349.613  592.413\n",
       "2     Häferl  BAAAAA+LiberationSans  18.0  114.605  480.813  162.503  498.813"
      ]
     },
     "execution_count": 7,
     "metadata": {},
     "output_type": "execute_result"
    }
   ],
   "source": [
    "join_rows(d1)"
   ]
  },
  {
   "cell_type": "code",
   "execution_count": 8,
   "metadata": {},
   "outputs": [
    {
     "data": {
      "text/html": [
       "<div>\n",
       "<style scoped>\n",
       "    .dataframe tbody tr th:only-of-type {\n",
       "        vertical-align: middle;\n",
       "    }\n",
       "\n",
       "    .dataframe tbody tr th {\n",
       "        vertical-align: top;\n",
       "    }\n",
       "\n",
       "    .dataframe thead th {\n",
       "        text-align: right;\n",
       "    }\n",
       "</style>\n",
       "<table border=\"1\" class=\"dataframe\">\n",
       "  <thead>\n",
       "    <tr style=\"text-align: right;\">\n",
       "      <th></th>\n",
       "      <th>text</th>\n",
       "      <th>font</th>\n",
       "      <th>size</th>\n",
       "      <th>x0</th>\n",
       "      <th>y0</th>\n",
       "      <th>x1</th>\n",
       "      <th>y1</th>\n",
       "    </tr>\n",
       "  </thead>\n",
       "  <tbody>\n",
       "    <tr>\n",
       "      <th>0</th>\n",
       "      <td>Rotated 2</td>\n",
       "      <td>BAAAAA+LiberationSans</td>\n",
       "      <td>10.008</td>\n",
       "      <td>289.587</td>\n",
       "      <td>261.099</td>\n",
       "      <td>307.587</td>\n",
       "      <td>338.997</td>\n",
       "    </tr>\n",
       "    <tr>\n",
       "      <th>1</th>\n",
       "      <td>1</td>\n",
       "      <td>BAAAAA+LiberationSans</td>\n",
       "      <td>10.008</td>\n",
       "      <td>107.886</td>\n",
       "      <td>561.713</td>\n",
       "      <td>125.886</td>\n",
       "      <td>571.721</td>\n",
       "    </tr>\n",
       "    <tr>\n",
       "      <th>2</th>\n",
       "      <td>Rotated</td>\n",
       "      <td>BAAAAA+LiberationSans</td>\n",
       "      <td>10.008</td>\n",
       "      <td>87.704</td>\n",
       "      <td>561.713</td>\n",
       "      <td>105.704</td>\n",
       "      <td>634.674</td>\n",
       "    </tr>\n",
       "  </tbody>\n",
       "</table>\n",
       "</div>"
      ],
      "text/plain": [
       "        text                   font    size       x0       y0       x1  \\\n",
       "0  Rotated 2  BAAAAA+LiberationSans  10.008  289.587  261.099  307.587   \n",
       "1          1  BAAAAA+LiberationSans  10.008  107.886  561.713  125.886   \n",
       "2  Rotated    BAAAAA+LiberationSans  10.008   87.704  561.713  105.704   \n",
       "\n",
       "        y1  \n",
       "0  338.997  \n",
       "1  571.721  \n",
       "2  634.674  "
      ]
     },
     "execution_count": 8,
     "metadata": {},
     "output_type": "execute_result"
    }
   ],
   "source": [
    "join_rows(d0, rotated=True)"
   ]
  },
  {
   "cell_type": "markdown",
   "metadata": {},
   "source": [
    "## Example 2"
   ]
  },
  {
   "cell_type": "code",
   "execution_count": 9,
   "metadata": {},
   "outputs": [],
   "source": [
    "doc = read_pdf(\"../samples/rotated_text_2.pdf\", page_numbers=[0])\n",
    "d = doc.get_text()\n",
    "d = d[d['size'] > 0]"
   ]
  },
  {
   "cell_type": "code",
   "execution_count": 10,
   "metadata": {},
   "outputs": [],
   "source": [
    "unused_columns = {\"colorspace\", \"color\", \"block\", \"pid\"}\n",
    "d = d[[k for k in d.columns if not k in unused_columns]]"
   ]
  },
  {
   "cell_type": "code",
   "execution_count": 11,
   "metadata": {},
   "outputs": [
    {
     "data": {
      "text/html": [
       "<div>\n",
       "<style scoped>\n",
       "    .dataframe tbody tr th:only-of-type {\n",
       "        vertical-align: middle;\n",
       "    }\n",
       "\n",
       "    .dataframe tbody tr th {\n",
       "        vertical-align: top;\n",
       "    }\n",
       "\n",
       "    .dataframe thead th {\n",
       "        text-align: right;\n",
       "    }\n",
       "</style>\n",
       "<table border=\"1\" class=\"dataframe\">\n",
       "  <thead>\n",
       "    <tr style=\"text-align: right;\">\n",
       "      <th></th>\n",
       "      <th>text</th>\n",
       "      <th>font</th>\n",
       "      <th>size</th>\n",
       "      <th>x0</th>\n",
       "      <th>y0</th>\n",
       "      <th>x1</th>\n",
       "      <th>y1</th>\n",
       "      <th>rotated</th>\n",
       "    </tr>\n",
       "  </thead>\n",
       "  <tbody>\n",
       "    <tr>\n",
       "      <th>0</th>\n",
       "      <td>2</td>\n",
       "      <td>BAAAAA+LiberationSans</td>\n",
       "      <td>10.008</td>\n",
       "      <td>255.089</td>\n",
       "      <td>724.904</td>\n",
       "      <td>273.089</td>\n",
       "      <td>734.912</td>\n",
       "      <td>True</td>\n",
       "    </tr>\n",
       "    <tr>\n",
       "      <th>2</th>\n",
       "      <td></td>\n",
       "      <td>BAAAAA+LiberationSans</td>\n",
       "      <td>4.986</td>\n",
       "      <td>255.089</td>\n",
       "      <td>719.887</td>\n",
       "      <td>273.089</td>\n",
       "      <td>724.873</td>\n",
       "      <td>True</td>\n",
       "    </tr>\n",
       "    <tr>\n",
       "      <th>4</th>\n",
       "      <td>t</td>\n",
       "      <td>BAAAAA+LiberationSans</td>\n",
       "      <td>4.986</td>\n",
       "      <td>255.089</td>\n",
       "      <td>714.898</td>\n",
       "      <td>273.089</td>\n",
       "      <td>719.884</td>\n",
       "      <td>True</td>\n",
       "    </tr>\n",
       "  </tbody>\n",
       "</table>\n",
       "</div>"
      ],
      "text/plain": [
       "  text                   font    size       x0       y0       x1       y1  \\\n",
       "0    2  BAAAAA+LiberationSans  10.008  255.089  724.904  273.089  734.912   \n",
       "2       BAAAAA+LiberationSans   4.986  255.089  719.887  273.089  724.873   \n",
       "4    t  BAAAAA+LiberationSans   4.986  255.089  714.898  273.089  719.884   \n",
       "\n",
       "   rotated  \n",
       "0     True  \n",
       "2     True  \n",
       "4     True  "
      ]
     },
     "execution_count": 11,
     "metadata": {},
     "output_type": "execute_result"
    }
   ],
   "source": [
    "letter_height = d['y1'] - d['y0']\n",
    "letter_width = d['x1'] - d['x0']\n",
    "d['rotated'] = (letter_width > letter_height).to_numpy()\n",
    "d.head(3)"
   ]
  },
  {
   "cell_type": "code",
   "execution_count": 12,
   "metadata": {},
   "outputs": [],
   "source": [
    "d0 = d[d[\"rotated\"]]\n",
    "d0 = d0.assign(rowid = align_exact_match(d0[\"x0\"]))\n",
    "d1 = d[~d[\"rotated\"]]\n",
    "d1 = d1.assign(rowid = align_exact_match(d1[\"y0\"]))"
   ]
  },
  {
   "cell_type": "markdown",
   "metadata": {},
   "source": [
    "In Zeile 1 and Zeile 2, Textblock 1 and 2 are connected by spaces.\n",
    "In Zeile 3, Textblock 1 and 2 are two seperated blocks not connected by spaces. The join row function only joins the rows."
   ]
  },
  {
   "cell_type": "code",
   "execution_count": 13,
   "metadata": {},
   "outputs": [
    {
     "data": {
      "text/html": [
       "<div>\n",
       "<style scoped>\n",
       "    .dataframe tbody tr th:only-of-type {\n",
       "        vertical-align: middle;\n",
       "    }\n",
       "\n",
       "    .dataframe tbody tr th {\n",
       "        vertical-align: top;\n",
       "    }\n",
       "\n",
       "    .dataframe thead th {\n",
       "        text-align: right;\n",
       "    }\n",
       "</style>\n",
       "<table border=\"1\" class=\"dataframe\">\n",
       "  <thead>\n",
       "    <tr style=\"text-align: right;\">\n",
       "      <th></th>\n",
       "      <th>text</th>\n",
       "      <th>font</th>\n",
       "      <th>size</th>\n",
       "      <th>x0</th>\n",
       "      <th>y0</th>\n",
       "      <th>x1</th>\n",
       "      <th>y1</th>\n",
       "    </tr>\n",
       "  </thead>\n",
       "  <tbody>\n",
       "    <tr>\n",
       "      <th>0</th>\n",
       "      <td>Zeile 1 Textblock 1                   Zeile 1 ...</td>\n",
       "      <td>BAAAAA+LiberationSans</td>\n",
       "      <td>18.0</td>\n",
       "      <td>64.205</td>\n",
       "      <td>682.413</td>\n",
       "      <td>456.497</td>\n",
       "      <td>700.413</td>\n",
       "    </tr>\n",
       "    <tr>\n",
       "      <th>1</th>\n",
       "      <td>Zeile 2 Textblock 1  Zeile 2 Textblock 2</td>\n",
       "      <td>BAAAAA+LiberationSans</td>\n",
       "      <td>18.0</td>\n",
       "      <td>71.405</td>\n",
       "      <td>563.613</td>\n",
       "      <td>378.323</td>\n",
       "      <td>581.613</td>\n",
       "    </tr>\n",
       "    <tr>\n",
       "      <th>2</th>\n",
       "      <td>Zeile 3 Textblock 1Zeile 3 Textblock 2</td>\n",
       "      <td>BAAAAA+LiberationSans</td>\n",
       "      <td>18.0</td>\n",
       "      <td>95.811</td>\n",
       "      <td>392.911</td>\n",
       "      <td>425.069</td>\n",
       "      <td>410.911</td>\n",
       "    </tr>\n",
       "  </tbody>\n",
       "</table>\n",
       "</div>"
      ],
      "text/plain": [
       "                                                text                   font  \\\n",
       "0  Zeile 1 Textblock 1                   Zeile 1 ...  BAAAAA+LiberationSans   \n",
       "1           Zeile 2 Textblock 1  Zeile 2 Textblock 2  BAAAAA+LiberationSans   \n",
       "2             Zeile 3 Textblock 1Zeile 3 Textblock 2  BAAAAA+LiberationSans   \n",
       "\n",
       "   size      x0       y0       x1       y1  \n",
       "0  18.0  64.205  682.413  456.497  700.413  \n",
       "1  18.0  71.405  563.613  378.323  581.613  \n",
       "2  18.0  95.811  392.911  425.069  410.911  "
      ]
     },
     "execution_count": 13,
     "metadata": {},
     "output_type": "execute_result"
    }
   ],
   "source": [
    "join_rows(d1)"
   ]
  },
  {
   "cell_type": "code",
   "execution_count": 14,
   "metadata": {
    "scrolled": true
   },
   "outputs": [
    {
     "data": {
      "text/html": [
       "<div>\n",
       "<style scoped>\n",
       "    .dataframe tbody tr th:only-of-type {\n",
       "        vertical-align: middle;\n",
       "    }\n",
       "\n",
       "    .dataframe tbody tr th {\n",
       "        vertical-align: top;\n",
       "    }\n",
       "\n",
       "    .dataframe thead th {\n",
       "        text-align: right;\n",
       "    }\n",
       "</style>\n",
       "<table border=\"1\" class=\"dataframe\">\n",
       "  <thead>\n",
       "    <tr style=\"text-align: right;\">\n",
       "      <th></th>\n",
       "      <th>text</th>\n",
       "      <th>font</th>\n",
       "      <th>size</th>\n",
       "      <th>x0</th>\n",
       "      <th>y0</th>\n",
       "      <th>x1</th>\n",
       "      <th>y1</th>\n",
       "    </tr>\n",
       "  </thead>\n",
       "  <tbody>\n",
       "    <tr>\n",
       "      <th>0</th>\n",
       "      <td>Rotated Text 1</td>\n",
       "      <td>BAAAAA+LiberationSans</td>\n",
       "      <td>10.008</td>\n",
       "      <td>524.211</td>\n",
       "      <td>508.904</td>\n",
       "      <td>542.211</td>\n",
       "      <td>624.502</td>\n",
       "    </tr>\n",
       "    <tr>\n",
       "      <th>1</th>\n",
       "      <td>Rotated Text 2</td>\n",
       "      <td>BAAAAA+LiberationSans</td>\n",
       "      <td>10.008</td>\n",
       "      <td>255.089</td>\n",
       "      <td>619.313</td>\n",
       "      <td>273.089</td>\n",
       "      <td>734.912</td>\n",
       "    </tr>\n",
       "  </tbody>\n",
       "</table>\n",
       "</div>"
      ],
      "text/plain": [
       "             text                   font    size       x0       y0       x1  \\\n",
       "0  Rotated Text 1  BAAAAA+LiberationSans  10.008  524.211  508.904  542.211   \n",
       "1  Rotated Text 2  BAAAAA+LiberationSans  10.008  255.089  619.313  273.089   \n",
       "\n",
       "        y1  \n",
       "0  624.502  \n",
       "1  734.912  "
      ]
     },
     "execution_count": 14,
     "metadata": {},
     "output_type": "execute_result"
    }
   ],
   "source": [
    "join_rows(d0, rotated=True)"
   ]
  },
  {
   "cell_type": "markdown",
   "metadata": {},
   "source": [
    "We see for rotated text the font size provided by **pdfminer** seems to be misleading."
   ]
  },
  {
   "cell_type": "markdown",
   "metadata": {},
   "source": [
    "### Group Columns\n",
    "Here, we don't assume a table structure and just write simple functions to assign the columns to blocks."
   ]
  },
  {
   "cell_type": "code",
   "execution_count": 15,
   "metadata": {},
   "outputs": [],
   "source": [
    "def align_text_blocks(x, max_char_dist=None):\n",
    "    # TODO: extend for rotated text\n",
    "    x = x.copy()\n",
    "    x['block_id'] = -1\n",
    "    if max_char_dist is None:\n",
    "        max_char_dist = (x['x1'] - x['x0']).max()\n",
    "    for i in sorted(set(x['rowid'])):\n",
    "        b = (x['rowid'] == i)\n",
    "        row = x[b]\n",
    "        row = row.sort_values(\"x0\")\n",
    "        char_dist = row['x0'].to_numpy()[1:] - row['x1'].to_numpy()[:-1]\n",
    "        bid = [0] + (char_dist > max_char_dist).cumsum().tolist()\n",
    "        row['block_id'] = bid\n",
    "        x.update(row['block_id'])\n",
    "    x = x.astype({'block_id': int})\n",
    "    return x\n",
    "\n",
    "\n",
    "def join_text_blocks(x, rotated=False):\n",
    "    def join_text_block(d, rotated=False):\n",
    "        if d.shape[0] == 0:\n",
    "            return None\n",
    "        d = d.sort_values(\"y0\" if rotated else \"x0\")\n",
    "        font = Counter(d['font']).most_common()[0][0]\n",
    "        font_size = Counter(d['size']).most_common()[0][0]\n",
    "        di = {'text': ''.join(d['text']), 'font': font, 'size': font_size,\n",
    "              'x0': d['x0'].min(), 'y0': d['y0'].min(), 'x1': d['x1'].max(), 'y1': d['y1'].max()}\n",
    "        return di\n",
    "    x = x.astype({'rowid': int})\n",
    "    y = [join_text_block(df, rotated) for row_id, df in x.groupby(['rowid', 'block_id'], as_index=False)]\n",
    "    return pd.DataFrame(y)"
   ]
  },
  {
   "cell_type": "markdown",
   "metadata": {},
   "source": [
    "In Zeile 1 and Zeile 2, Textblock 1 and 2 are connected by spaces.\n",
    "In Zeile 3, Textblock 1 and 2 are two seperated blocks not connected by spaces. The join row function only joins the rows."
   ]
  },
  {
   "cell_type": "code",
   "execution_count": 16,
   "metadata": {},
   "outputs": [
    {
     "data": {
      "text/html": [
       "<div>\n",
       "<style scoped>\n",
       "    .dataframe tbody tr th:only-of-type {\n",
       "        vertical-align: middle;\n",
       "    }\n",
       "\n",
       "    .dataframe tbody tr th {\n",
       "        vertical-align: top;\n",
       "    }\n",
       "\n",
       "    .dataframe thead th {\n",
       "        text-align: right;\n",
       "    }\n",
       "</style>\n",
       "<table border=\"1\" class=\"dataframe\">\n",
       "  <thead>\n",
       "    <tr style=\"text-align: right;\">\n",
       "      <th></th>\n",
       "      <th>text</th>\n",
       "      <th>font</th>\n",
       "      <th>size</th>\n",
       "      <th>x0</th>\n",
       "      <th>y0</th>\n",
       "      <th>x1</th>\n",
       "      <th>y1</th>\n",
       "    </tr>\n",
       "  </thead>\n",
       "  <tbody>\n",
       "    <tr>\n",
       "      <th>0</th>\n",
       "      <td>Zeile 1 Textblock 1                   Zeile 1 ...</td>\n",
       "      <td>BAAAAA+LiberationSans</td>\n",
       "      <td>18.0</td>\n",
       "      <td>64.205</td>\n",
       "      <td>682.413</td>\n",
       "      <td>456.497</td>\n",
       "      <td>700.413</td>\n",
       "    </tr>\n",
       "    <tr>\n",
       "      <th>1</th>\n",
       "      <td>Zeile 2 Textblock 1  Zeile 2 Textblock 2</td>\n",
       "      <td>BAAAAA+LiberationSans</td>\n",
       "      <td>18.0</td>\n",
       "      <td>71.405</td>\n",
       "      <td>563.613</td>\n",
       "      <td>378.323</td>\n",
       "      <td>581.613</td>\n",
       "    </tr>\n",
       "    <tr>\n",
       "      <th>2</th>\n",
       "      <td>Zeile 3 Textblock 1</td>\n",
       "      <td>BAAAAA+LiberationSans</td>\n",
       "      <td>18.0</td>\n",
       "      <td>95.811</td>\n",
       "      <td>392.911</td>\n",
       "      <td>244.275</td>\n",
       "      <td>410.911</td>\n",
       "    </tr>\n",
       "    <tr>\n",
       "      <th>3</th>\n",
       "      <td>Zeile 3 Textblock 2</td>\n",
       "      <td>BAAAAA+LiberationSans</td>\n",
       "      <td>18.0</td>\n",
       "      <td>276.605</td>\n",
       "      <td>392.911</td>\n",
       "      <td>425.069</td>\n",
       "      <td>410.911</td>\n",
       "    </tr>\n",
       "  </tbody>\n",
       "</table>\n",
       "</div>"
      ],
      "text/plain": [
       "                                                text                   font  \\\n",
       "0  Zeile 1 Textblock 1                   Zeile 1 ...  BAAAAA+LiberationSans   \n",
       "1           Zeile 2 Textblock 1  Zeile 2 Textblock 2  BAAAAA+LiberationSans   \n",
       "2                                Zeile 3 Textblock 1  BAAAAA+LiberationSans   \n",
       "3                                Zeile 3 Textblock 2  BAAAAA+LiberationSans   \n",
       "\n",
       "   size       x0       y0       x1       y1  \n",
       "0  18.0   64.205  682.413  456.497  700.413  \n",
       "1  18.0   71.405  563.613  378.323  581.613  \n",
       "2  18.0   95.811  392.911  244.275  410.911  \n",
       "3  18.0  276.605  392.911  425.069  410.911  "
      ]
     },
     "execution_count": 16,
     "metadata": {},
     "output_type": "execute_result"
    }
   ],
   "source": [
    "x = d1.copy()\n",
    "x = align_text_blocks(x)\n",
    "join_text_blocks(x)"
   ]
  }
 ],
 "metadata": {
  "kernelspec": {
   "display_name": "Python 3",
   "language": "python",
   "name": "python3"
  },
  "language_info": {
   "codemirror_mode": {
    "name": "ipython",
    "version": 3
   },
   "file_extension": ".py",
   "mimetype": "text/x-python",
   "name": "python",
   "nbconvert_exporter": "python",
   "pygments_lexer": "ipython3",
   "version": "3.8.2"
  }
 },
 "nbformat": 4,
 "nbformat_minor": 4
}
